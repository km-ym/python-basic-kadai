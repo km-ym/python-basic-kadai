{
  "nbformat": 4,
  "nbformat_minor": 0,
  "metadata": {
    "colab": {
      "provenance": []
    },
    "kernelspec": {
      "name": "python3",
      "display_name": "Python 3"
    },
    "language_info": {
      "name": "python"
    }
  },
  "cells": [
    {
      "cell_type": "code",
      "execution_count": 1,
      "metadata": {
        "colab": {
          "base_uri": "https://localhost:8080/"
        },
        "id": "mSTjnhys3ogg",
        "outputId": "e62dd9b9-91f3-4d25-95b7-d7d4c963a0be"
      },
      "outputs": [
        {
          "output_type": "stream",
          "name": "stdout",
          "text": [
            "田中さんは36歳なので大人です。\n",
            "佐藤さんは18歳なので大人ではありません。\n",
            "鈴木さんは20歳なので大人です。\n"
          ]
        }
      ],
      "source": [
        "class Human:\n",
        "  def __init__(self, name, age):\n",
        "    self.name = name\n",
        "    self.age = age\n",
        "  def check_adult(self):\n",
        "    if self.age >= 20:\n",
        "      return f\"{self.name}さんは{self.age}歳なので大人です。\"\n",
        "    else:\n",
        "      return f\"{self.name}さんは{self.age}歳なので大人ではありません。\"\n",
        "\n",
        "human1 = Human(\"田中\", 36)\n",
        "human2 = Human(\"佐藤\", 18)\n",
        "human3 = Human(\"鈴木\", 20)\n",
        "\n",
        "human_info = [human1, human2, human3]\n",
        "\n",
        "for i in human_info:\n",
        "    print(i.check_adult())"
      ]
    }
  ]
}