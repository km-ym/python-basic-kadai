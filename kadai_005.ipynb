{
  "nbformat": 4,
  "nbformat_minor": 0,
  "metadata": {
    "colab": {
      "provenance": []
    },
    "kernelspec": {
      "name": "python3",
      "display_name": "Python 3"
    },
    "language_info": {
      "name": "python"
    }
  },
  "cells": [
    {
      "cell_type": "code",
      "execution_count": 30,
      "metadata": {
        "colab": {
          "base_uri": "https://localhost:8080/"
        },
        "id": "Epgw82ka6UtF",
        "outputId": "bfec2720-6b71-448d-c795-93bd6ba8fecb"
      },
      "outputs": [
        {
          "output_type": "stream",
          "name": "stdout",
          "text": [
            "75.0cm²\n"
          ]
        }
      ],
      "source": [
        "top_length = 10\n",
        "bottom_length = 20\n",
        "height = 5\n",
        "\n",
        "trapezoid = (top_length + bottom_length) * height / 2\n",
        "\n",
        "print(str(trapezoid) + \"cm²\")"
      ]
    },
    {
      "cell_type": "code",
      "source": [],
      "metadata": {
        "id": "mDb78HhX7C-V"
      },
      "execution_count": null,
      "outputs": []
    }
  ]
}