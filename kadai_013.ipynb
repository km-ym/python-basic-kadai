{
  "nbformat": 4,
  "nbformat_minor": 0,
  "metadata": {
    "colab": {
      "provenance": []
    },
    "kernelspec": {
      "name": "python3",
      "display_name": "Python 3"
    },
    "language_info": {
      "name": "python"
    }
  },
  "cells": [
    {
      "cell_type": "markdown",
      "source": [],
      "metadata": {
        "id": "ifTCpaOjsLH-"
      }
    },
    {
      "cell_type": "code",
      "execution_count": 2,
      "metadata": {
        "colab": {
          "base_uri": "https://localhost:8080/"
        },
        "id": "Fc4xXiWYqugt",
        "outputId": "5e9aa1a0-f6a3-4ae2-d95d-32ca0b2dae31"
      },
      "outputs": [
        {
          "output_type": "stream",
          "name": "stdout",
          "text": [
            "550.0\n"
          ]
        }
      ],
      "source": [
        "def cal_tax(price, tax):\n",
        "  return price * (1 + tax * 0.01)\n",
        "\n",
        "print(cal_tax(500, 10))"
      ]
    },
    {
      "cell_type": "markdown",
      "source": [],
      "metadata": {
        "id": "vbTExHsLqznJ"
      }
    }
  ]
}